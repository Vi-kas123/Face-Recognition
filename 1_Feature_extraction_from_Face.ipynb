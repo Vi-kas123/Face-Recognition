{
 "cells": [
  {
   "cell_type": "code",
   "execution_count": 1,
   "id": "7b4963fe-4bb9-4584-ad03-9bf61ba2cf49",
   "metadata": {},
   "outputs": [],
   "source": [
    "import numpy as np\n",
    "import cv2\n",
    "import dlib\n",
    "from imutils import face_utils"
   ]
  },
  {
   "cell_type": "code",
   "execution_count": 23,
   "id": "752266c1-b95b-47ea-8e65-062392cc0500",
   "metadata": {},
   "outputs": [],
   "source": [
    "img = cv2.imread('./images/girl.png')\n",
    "cv2.imshow('girl',img)\n",
    "cv2.waitKey(0)\n",
    "cv2.destroyAllWindows()"
   ]
  },
  {
   "cell_type": "code",
   "execution_count": 16,
   "id": "413429a5-d90f-447b-b2c3-12d071e25af9",
   "metadata": {},
   "outputs": [],
   "source": [
    "shape_predictor = dlib.shape_predictor('./models/shape_predictor_68_face_landmarks.dat')\n",
    "shape_descriptor = dlib.face_recognition_model_v1('./models/dlib_face_recognition_resnet_model_v1.dat')"
   ]
  },
  {
   "cell_type": "code",
   "execution_count": 19,
   "id": "034d0dba-9675-4f52-8a3a-6e63a969c1bc",
   "metadata": {},
   "outputs": [],
   "source": [
    "# step - 1 Face detection\n",
    "image = img.copy()\n",
    "face_detector = dlib.get_frontal_face_detector()\n",
    "\n",
    "faces = face_detector(image)\n",
    "# print(faces)\n",
    "for box in faces:\n",
    "    # print(box)\n",
    "    pt1 = box.left(),box.top()\n",
    "    pt2 = box.right(),box.bottom()\n",
    "\n",
    "    face_shape = shape_predictor(image,box)\n",
    "    face_shape_array = face_utils.shape_to_np(face_shape)\n",
    "    face_descriptor = shape_descriptor.compute_face_descriptor(image,face_shape)\n",
    "    # print(face_shape_array)\n",
    "    for points in face_shape_array:\n",
    "        cv2.circle(image,tuple(points),3,(0,255,0),-1)\n",
    "    \n",
    "    cv2.rectangle(image,pt1,pt2,(0,255,0))\n",
    "\n",
    "cv2.imshow('Girl Face Detect',image)\n",
    "cv2.waitKey(0)\n",
    "cv2.destroyAllWindows()"
   ]
  },
  {
   "cell_type": "code",
   "execution_count": 22,
   "id": "63cbcdbd-9395-4bea-9163-2ddae5ca5528",
   "metadata": {},
   "outputs": [
    {
     "data": {
      "text/plain": [
       "128"
      ]
     },
     "execution_count": 22,
     "metadata": {},
     "output_type": "execute_result"
    }
   ],
   "source": [
    "len(np.array(face_descriptor))"
   ]
  },
  {
   "cell_type": "code",
   "execution_count": null,
   "id": "5be679a2-1d8c-4d74-9419-5377a729ecf5",
   "metadata": {},
   "outputs": [],
   "source": []
  }
 ],
 "metadata": {
  "kernelspec": {
   "display_name": "Python 3 (ipykernel)",
   "language": "python",
   "name": "python3"
  },
  "language_info": {
   "codemirror_mode": {
    "name": "ipython",
    "version": 3
   },
   "file_extension": ".py",
   "mimetype": "text/x-python",
   "name": "python",
   "nbconvert_exporter": "python",
   "pygments_lexer": "ipython3",
   "version": "3.11.3"
  }
 },
 "nbformat": 4,
 "nbformat_minor": 5
}
