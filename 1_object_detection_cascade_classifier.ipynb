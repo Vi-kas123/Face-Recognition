{
 "cells": [
  {
   "cell_type": "code",
   "execution_count": 1,
   "id": "2c33eb21-e788-4cea-a917-5b8903832fff",
   "metadata": {},
   "outputs": [],
   "source": [
    "import numpy as np\n",
    "import cv2"
   ]
  },
  {
   "cell_type": "code",
   "execution_count": 2,
   "id": "a0a6f3bc-1e4a-4585-b86a-be8d67ff9637",
   "metadata": {},
   "outputs": [],
   "source": [
    "# Face Detection"
   ]
  },
  {
   "cell_type": "code",
   "execution_count": 3,
   "id": "aa34c115-d9c5-421c-9bed-f7414eb027fc",
   "metadata": {},
   "outputs": [],
   "source": [
    "img = cv2.imread('./images/0021.jpg')\n",
    "\n",
    "cv2.imshow('image',img)\n",
    "cv2.waitKey(0)\n",
    "cv2.destroyAllWindows()"
   ]
  },
  {
   "cell_type": "code",
   "execution_count": 4,
   "id": "71e0ed98-8918-47fb-9c37-90f9808ce882",
   "metadata": {},
   "outputs": [],
   "source": [
    "face_cascade = cv2.CascadeClassifier(cv2.data.haarcascades + 'haarcascade_frontalface_default.xml')"
   ]
  },
  {
   "cell_type": "code",
   "execution_count": 5,
   "id": "9ff8d2d5-95cb-4749-a8cf-b3e20c3f5108",
   "metadata": {},
   "outputs": [],
   "source": [
    "# apply cascade classifier to an image\n",
    "faces,num_detection = face_cascade.detectMultiScale2(img)"
   ]
  },
  {
   "cell_type": "code",
   "execution_count": 6,
   "id": "2acb1a31-f451-4893-bc90-644a4f46328b",
   "metadata": {},
   "outputs": [
    {
     "name": "stdout",
     "output_type": "stream",
     "text": [
      "[[114  40 196 196]]\n"
     ]
    }
   ],
   "source": [
    "print(faces)"
   ]
  },
  {
   "cell_type": "code",
   "execution_count": 7,
   "id": "f98b542d-b106-40a4-a98e-5b385b9d3872",
   "metadata": {},
   "outputs": [
    {
     "name": "stdout",
     "output_type": "stream",
     "text": [
      "[89]\n"
     ]
    }
   ],
   "source": [
    "print(num_detection)"
   ]
  },
  {
   "cell_type": "code",
   "execution_count": 8,
   "id": "87d17d26-913b-4619-ba7f-454b989c03ef",
   "metadata": {},
   "outputs": [],
   "source": [
    "pt1 = (114,40)\n",
    "pt2 = (114+196,40+196)\n",
    "# draw the rectangle\n",
    "cv2.rectangle(img,pt1,pt2,(0,255,0))\n",
    "\n",
    "cv2.imshow('face detection',img)\n",
    "cv2.waitKey(0)\n",
    "cv2.destroyAllWindows()"
   ]
  },
  {
   "cell_type": "code",
   "execution_count": 9,
   "id": "f2c2b9d4-fe32-4287-8356-e074e3e1ecdc",
   "metadata": {},
   "outputs": [],
   "source": [
    "# draw the circle\n",
    "cx = 114 + 196//2\n",
    "cy = 40 + 196//2\n",
    "r = 196 //2\n",
    "\n",
    "cv2.circle(img,(cx,cy),r,(0,255,255),2)\n",
    "cv2.imshow('Face detection circle',img)\n",
    "cv2.waitKey(0)\n",
    "cv2.destroyAllWindows()"
   ]
  },
  {
   "cell_type": "code",
   "execution_count": 10,
   "id": "7817dd9d-08b2-4141-9c66-2145dd0424a8",
   "metadata": {},
   "outputs": [],
   "source": [
    "# Multiple_Face_Detection"
   ]
  },
  {
   "cell_type": "code",
   "execution_count": 11,
   "id": "55c49c19-9dda-4486-ad67-7d78dabf58d4",
   "metadata": {},
   "outputs": [],
   "source": [
    "img = cv2.imread('./images/friends.jpg')\n",
    "\n",
    "cv2.imshow('Image',img)\n",
    "cv2.waitKey(0)\n",
    "cv2.destroyAllWindows()"
   ]
  },
  {
   "cell_type": "code",
   "execution_count": 12,
   "id": "2e9fbbfe-17ba-4250-a4c1-dc48dd284c33",
   "metadata": {},
   "outputs": [],
   "source": [
    "face_cascade = cv2.CascadeClassifier(cv2.data.haarcascades + 'haarcascade_frontalface_default.xml')\n",
    "\n",
    "# step -1 apply cascade classifier to an image\n",
    "faces,num_detection = face_cascade.detectMultiScale2(img,minNeighbors=8)\n",
    "\n",
    "# step - 2 run a loop \n",
    "for x,y,w,h in faces:\n",
    "    cv2.rectangle(img,(x,y),(x+w,y+h),(0,255,0))\n",
    "\n",
    "# step - 3 display the image\n",
    "cv2.imshow('face detection',img)\n",
    "cv2.waitKey(0)\n",
    "cv2.destroyAllWindows()"
   ]
  },
  {
   "cell_type": "code",
   "execution_count": 13,
   "id": "5639983a-a56a-4347-8fdd-07adb777ef8b",
   "metadata": {},
   "outputs": [
    {
     "name": "stdout",
     "output_type": "stream",
     "text": [
      "[104  84  71]\n"
     ]
    }
   ],
   "source": [
    "print(num_detection)"
   ]
  },
  {
   "cell_type": "raw",
   "id": "4a932d19-5641-411a-a889-34781d2e9a9d",
   "metadata": {},
   "source": [
    "face & Eyes Detection"
   ]
  },
  {
   "cell_type": "code",
   "execution_count": 14,
   "id": "df33229d-3398-46c9-bc00-19c8f831f273",
   "metadata": {},
   "outputs": [],
   "source": [
    "img = cv2.imread('./images/friends.jpg')\n",
    "\n",
    "cv2.imshow('Image',img)\n",
    "cv2.waitKey(0)\n",
    "cv2.destroyAllWindows()"
   ]
  },
  {
   "cell_type": "code",
   "execution_count": 15,
   "id": "1f47da63-3682-45d7-a5fc-03d49ff67cc4",
   "metadata": {},
   "outputs": [],
   "source": [
    "face_cascade = cv2.CascadeClassifier(cv2.data.haarcascades + 'haarcascade_frontalface_default.xml')\n",
    "eye_cascade = cv2.CascadeClassifier(cv2.data.haarcascades + 'haarcascade_eye.xml')"
   ]
  },
  {
   "cell_type": "code",
   "execution_count": 16,
   "id": "819b39f1-b51a-43d0-ab07-c64122f4da4f",
   "metadata": {},
   "outputs": [],
   "source": [
    "# step - 1 : Face Detection\n",
    "faces, num_detection = face_cascade.detectMultiScale2(img,minNeighbors = 8)\n",
    "for x,y,w,h in faces:\n",
    "    cv2.rectangle(img,(x,y),(x+w,y+h),(0,255,0))\n",
    "\n",
    "    # step - 2 eye detection\n",
    "    face_roi = img[y:y+h,x:x+h] # coping the image\n",
    "    # step - 3 apply to cascade classifier (eye)\n",
    "    eyes, num_detection_eyes = eye_cascade.detectMultiScale2(face_roi)\n",
    "    for ex,ey,ew,eh in eyes:\n",
    "        cx = x + ex+ew//2\n",
    "        cy = y + ey + eh//2\n",
    "        r = eh//2\n",
    "        cv2.circle(img,(cx,cy),r,(255,0,255),2)\n",
    "        \n",
    "# step 4 display \n",
    "cv2.imshow('Face eye detection',img)\n",
    "cv2.waitKey(0)\n",
    "cv2.destroyAllWindows()"
   ]
  },
  {
   "cell_type": "code",
   "execution_count": 17,
   "id": "8829f2cc-e036-49f7-9a89-5b17c5a94bbe",
   "metadata": {},
   "outputs": [],
   "source": [
    "# Faces, eyes and smile detection"
   ]
  },
  {
   "cell_type": "code",
   "execution_count": 18,
   "id": "91c2da1c-e98f-4962-b48c-ec66ebe71229",
   "metadata": {},
   "outputs": [],
   "source": [
    "img = cv2.imread('./images/friends.jpg')\n",
    "\n",
    "cv2.imshow('Image',img)\n",
    "cv2.waitKey(0)\n",
    "cv2.destroyAllWindows()"
   ]
  },
  {
   "cell_type": "code",
   "execution_count": 20,
   "id": "ebc69d44-8d58-49ff-a208-b5fa05ffc746",
   "metadata": {},
   "outputs": [],
   "source": [
    "face_cascade = cv2.CascadeClassifier(cv2.data.haarcascades + 'haarcascade_frontalface_default.xml')\n",
    "eye_cascade = cv2.CascadeClassifier(cv2.data.haarcascades + 'haarcascade_eye.xml')\n",
    "smile_cascade = cv2.CascadeClassifier(cv2.data.haarcascades + 'haarcascade_smile.xml')\n",
    "# step - 1 : Face Detection\n",
    "faces, num_detection = face_cascade.detectMultiScale2(img,minNeighbors = 8)\n",
    "for x,y,w,h in faces:\n",
    "\n",
    "    # step - 2 eye detection\n",
    "    face_roi = img[y:y+h,x:x+h].copy() # coping the image\n",
    "    cv2.rectangle(img,(x,y),(x+w,y+h),(0,255,0))\n",
    "    \n",
    "    # step - 3 apply to cascade classifier (eye)\n",
    "    eyes, num_detection_eyes = eye_cascade.detectMultiScale2(face_roi)\n",
    "    for ex,ey,ew,eh in eyes:\n",
    "        cx = x + ex+ew//2\n",
    "        cy = y + ey + eh//2\n",
    "        r = eh//2\n",
    "        cv2.circle(img,(cx,cy),r,(255,0,255),2)\n",
    "\n",
    "    # step - 4 smile detection\n",
    "    smiles,num_detection_smile = smile_cascade.detectMultiScale2(face_roi)\n",
    "    for sx,sy,sw,sh in smiles:\n",
    "        cv2.rectangle(img,(x+sx,y+sy),(x+sx+sw,y+sy+sh),(255,0,0),2)\n",
    "        \n",
    "# step 5 display \n",
    "cv2.imshow('Face eye and smile detection',img)\n",
    "cv2.waitKey(0)\n",
    "cv2.destroyAllWindows()"
   ]
  },
  {
   "cell_type": "code",
   "execution_count": null,
   "id": "702604a2-0fd2-43ac-9f98-86029e5b481a",
   "metadata": {},
   "outputs": [],
   "source": []
  },
  {
   "cell_type": "code",
   "execution_count": null,
   "id": "9e3e7454-ca4f-45c8-bf16-a28aa05b9444",
   "metadata": {},
   "outputs": [],
   "source": []
  }
 ],
 "metadata": {
  "kernelspec": {
   "display_name": "Python 3 (ipykernel)",
   "language": "python",
   "name": "python3"
  },
  "language_info": {
   "codemirror_mode": {
    "name": "ipython",
    "version": 3
   },
   "file_extension": ".py",
   "mimetype": "text/x-python",
   "name": "python",
   "nbconvert_exporter": "python",
   "pygments_lexer": "ipython3",
   "version": "3.11.3"
  }
 },
 "nbformat": 4,
 "nbformat_minor": 5
}
