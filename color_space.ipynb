{
 "cells": [
  {
   "cell_type": "code",
   "execution_count": 1,
   "id": "ca54a2b1-7646-4625-b3dc-63f565edf815",
   "metadata": {},
   "outputs": [],
   "source": [
    "import numpy as np\n",
    "import cv2"
   ]
  },
  {
   "cell_type": "code",
   "execution_count": 2,
   "id": "141c4a21-49cd-48dc-bcbb-d2478634a52b",
   "metadata": {},
   "outputs": [],
   "source": [
    "img = cv2.imread('./images/3_cars.jpg')"
   ]
  },
  {
   "cell_type": "code",
   "execution_count": 3,
   "id": "cb82c84b-4aab-42d5-961d-5b83f7660449",
   "metadata": {},
   "outputs": [],
   "source": [
    "cv2.imshow('Original_image',img)\n",
    "cv2.waitKey(0)\n",
    "cv2.destroyAllWindows()"
   ]
  },
  {
   "cell_type": "code",
   "execution_count": 4,
   "id": "1dd2c149-4a41-46f9-9c99-c8719b41f2a4",
   "metadata": {},
   "outputs": [
    {
     "data": {
      "text/plain": [
       "(795, 1200, 3)"
      ]
     },
     "execution_count": 4,
     "metadata": {},
     "output_type": "execute_result"
    }
   ],
   "source": [
    "img.shape"
   ]
  },
  {
   "cell_type": "code",
   "execution_count": 5,
   "id": "5172b689-b1c2-4934-a607-602e513d23d6",
   "metadata": {},
   "outputs": [],
   "source": [
    "b,g,r = cv2.split(img)"
   ]
  },
  {
   "cell_type": "code",
   "execution_count": 6,
   "id": "9d03c63f-7d99-4059-81b3-6f0cf18e26b4",
   "metadata": {},
   "outputs": [
    {
     "name": "stdout",
     "output_type": "stream",
     "text": [
      "[[43 33 36 ... 19 27 39]\n",
      " [28 12 11 ...  2  7 20]\n",
      " [28 15 16 ...  3 12 25]\n",
      " ...\n",
      " [60 49 48 ... 27 33 43]\n",
      " [58 48 47 ... 27 33 43]\n",
      " [75 64 63 ... 44 50 60]]\n"
     ]
    }
   ],
   "source": [
    "print(b)"
   ]
  },
  {
   "cell_type": "code",
   "execution_count": 7,
   "id": "6b561e05-2492-4452-9ff1-5289a5436f05",
   "metadata": {},
   "outputs": [
    {
     "data": {
      "text/plain": [
       "(795, 1200)"
      ]
     },
     "execution_count": 7,
     "metadata": {},
     "output_type": "execute_result"
    }
   ],
   "source": [
    "b.shape"
   ]
  },
  {
   "cell_type": "code",
   "execution_count": 15,
   "id": "79525624-6d69-48e0-9fd8-1c985b1d8219",
   "metadata": {},
   "outputs": [],
   "source": [
    "cv2.imshow('Blue Image',b)\n",
    "cv2.imshow('Green Image',g)\n",
    "cv2.imshow('Red Image',r)\n",
    "cv2.imshow('Original Image',img)\n",
    "cv2.waitKey(0)\n",
    "cv2.destroyAllWindows()"
   ]
  },
  {
   "cell_type": "markdown",
   "id": "565817e2-8097-4a57-b233-a6b9d9b98491",
   "metadata": {},
   "source": [
    "Convert_Color"
   ]
  },
  {
   "cell_type": "code",
   "execution_count": 16,
   "id": "32e2b269-65a4-4a15-bc5a-f2d889206e68",
   "metadata": {},
   "outputs": [],
   "source": [
    "img1 = cv2.imread('./images/beach.jpg')"
   ]
  },
  {
   "cell_type": "code",
   "execution_count": 17,
   "id": "d08a1e98-e990-4f52-b9b9-bd18a24c6a96",
   "metadata": {},
   "outputs": [
    {
     "ename": "AttributeError",
     "evalue": "module 'cv2' has no attribute 'destoryAllWindows'",
     "output_type": "error",
     "traceback": [
      "\u001b[1;31m---------------------------------------------------------------------------\u001b[0m",
      "\u001b[1;31mAttributeError\u001b[0m                            Traceback (most recent call last)",
      "Cell \u001b[1;32mIn[17], line 3\u001b[0m\n\u001b[0;32m      1\u001b[0m cv2\u001b[38;5;241m.\u001b[39mimshow(\u001b[38;5;124m'\u001b[39m\u001b[38;5;124mOriginal BGR\u001b[39m\u001b[38;5;124m'\u001b[39m,img1)\n\u001b[0;32m      2\u001b[0m cv2\u001b[38;5;241m.\u001b[39mwaitKey(\u001b[38;5;241m0\u001b[39m)\n\u001b[1;32m----> 3\u001b[0m \u001b[43mcv2\u001b[49m\u001b[38;5;241;43m.\u001b[39;49m\u001b[43mdestoryAllWindows\u001b[49m()\n",
      "\u001b[1;31mAttributeError\u001b[0m: module 'cv2' has no attribute 'destoryAllWindows'"
     ]
    }
   ],
   "source": [
    "cv2.imshow('Original BGR',img1)\n",
    "cv2.waitKey(0)\n",
    "cv2.destoryAllWindows()"
   ]
  },
  {
   "cell_type": "code",
   "execution_count": 22,
   "id": "4e8ca1bf-14e2-40d7-8dc6-0358421ab53e",
   "metadata": {},
   "outputs": [],
   "source": [
    "# BGR to Gray\n",
    "gray = cv2.cvtColor(img1,cv2.COLOR_BGR2GRAY)\n",
    "\n",
    "# BGR to RGB\n",
    "img_rgb = cv2.cvtColor(img1,cv2.COLOR_BGR2RGB)\n",
    "\n",
    "# BGR to HSV\n",
    "img_hsv = cv2.cvtColor(img1,cv2.COLOR_BGR2HSV)\n",
    "\n",
    "# BGR to LAB\n",
    "img_lab = cv2.cvtColor(img1,cv2.COLOR_BGR2LAB)\n",
    "\n",
    "cv2.imshow('Original- bgr',img1)\n",
    "cv2.imshow('Greyscale',gray)\n",
    "cv2.imshow('RGB IMAGE',img_rgb)\n",
    "cv2.imshow('HSV IMAGE',img_hsv)\n",
    "cv2.imshow('LAB IMAGE',img_lab)\n",
    "cv2.waitKey(0)\n",
    "cv2.destroyAllWindows()"
   ]
  },
  {
   "cell_type": "code",
   "execution_count": null,
   "id": "c0a3c56f-de84-4c29-bb45-b4e8cacebaa7",
   "metadata": {},
   "outputs": [],
   "source": []
  }
 ],
 "metadata": {
  "kernelspec": {
   "display_name": "Python 3 (ipykernel)",
   "language": "python",
   "name": "python3"
  },
  "language_info": {
   "codemirror_mode": {
    "name": "ipython",
    "version": 3
   },
   "file_extension": ".py",
   "mimetype": "text/x-python",
   "name": "python",
   "nbconvert_exporter": "python",
   "pygments_lexer": "ipython3",
   "version": "3.11.3"
  }
 },
 "nbformat": 4,
 "nbformat_minor": 5
}
