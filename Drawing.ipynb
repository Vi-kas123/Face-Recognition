{
 "cells": [
  {
   "cell_type": "code",
   "execution_count": 1,
   "id": "2aee467b-b905-45d3-954a-7db6ba3deb8e",
   "metadata": {},
   "outputs": [],
   "source": [
    "import cv2\n",
    "import numpy as np"
   ]
  },
  {
   "cell_type": "code",
   "execution_count": 2,
   "id": "b326e4ed-f71e-486f-ab1e-a01fd6103d61",
   "metadata": {},
   "outputs": [],
   "source": [
    "canvas = np.zeros((300,300,3),dtype='uint8')"
   ]
  },
  {
   "cell_type": "code",
   "execution_count": 3,
   "id": "02ef892c-cabc-419e-915c-e659695f9a75",
   "metadata": {},
   "outputs": [],
   "source": [
    "cv2.imshow('Canvas',canvas)\n",
    "cv2.waitKey(0)\n",
    "cv2.destroyAllWindows()"
   ]
  },
  {
   "cell_type": "code",
   "execution_count": 4,
   "id": "a2e2a210-c0c1-450c-b3d8-da451000c3bb",
   "metadata": {},
   "outputs": [],
   "source": [
    "# line\n",
    "pt1 = (0,0)\n",
    "pt2 = (300,300)\n",
    "color = (0,255,0)\n",
    "cv2.line(canvas,pt1,pt2,color,1)\n",
    "cv2.imshow('Canvas',canvas)\n",
    "cv2.waitKey(0)\n",
    "cv2.destroyAllWindows()"
   ]
  },
  {
   "cell_type": "code",
   "execution_count": 5,
   "id": "149bd77e-8dfa-4e36-95d2-4fa74da1b5e4",
   "metadata": {},
   "outputs": [],
   "source": [
    "pt1 = (300,0)\n",
    "pt2 = (0,300)\n",
    "color = (0,255,0)\n",
    "cv2.line(canvas,pt1,pt2,color,1)\n",
    "cv2.imshow('X',canvas)\n",
    "cv2.waitKey(0)\n",
    "cv2.destroyAllWindows()"
   ]
  },
  {
   "cell_type": "markdown",
   "id": "5eed2f55-087b-4088-8d18-368a5146782a",
   "metadata": {},
   "source": [
    "Rectangle"
   ]
  },
  {
   "cell_type": "code",
   "execution_count": 6,
   "id": "5aaf53f9-4ee6-472b-9f07-8528ac150ba6",
   "metadata": {},
   "outputs": [],
   "source": [
    "canvas = np.zeros((600,600,3),dtype='uint8')\n",
    "cv2.imshow('canvas',canvas)\n",
    "cv2.waitKey(0)\n",
    "cv2.destroyAllWindows()"
   ]
  },
  {
   "cell_type": "code",
   "execution_count": 7,
   "id": "eb4593ea-c5e4-4d0f-9733-713c69eb23d0",
   "metadata": {},
   "outputs": [],
   "source": [
    "pt1 = (50,50)\n",
    "pt2 = (100,100)\n",
    "color = (255,0,0)\n",
    "cv2.rectangle(canvas,pt1,pt2,color,)\n",
    "cv2.rectangle(canvas,(100,100),(200,200),(0,255,0),5)\n",
    "cv2.rectangle(canvas,(200,200),(300,300),(0,0,255),-5)\n",
    "cv2.imshow('Canvas',canvas)\n",
    "cv2.waitKey(0)\n",
    "cv2.destroyAllWindows()"
   ]
  },
  {
   "cell_type": "markdown",
   "id": "05e8c158-f419-426a-a6f0-4fe3da67797a",
   "metadata": {},
   "source": [
    "Polygon"
   ]
  },
  {
   "cell_type": "code",
   "execution_count": 8,
   "id": "6f32ebbe-6b4b-4754-b0ae-e417425371e7",
   "metadata": {},
   "outputs": [],
   "source": [
    "canvas = 255*np.ones((600,600,3),dtype='uint8')\n",
    "cv2.imshow('canvas',canvas)\n",
    "cv2.waitKey(0)\n",
    "cv2.destroyAllWindows()"
   ]
  },
  {
   "cell_type": "code",
   "execution_count": 9,
   "id": "a5426aeb-95d1-474d-beec-d5fc1ef3e009",
   "metadata": {},
   "outputs": [],
   "source": [
    "pts=np.array([[200,200],[250,300],[350,300],[400,200],[350,100],[250,100]])\n",
    "pts = pts.reshape((-1,1,2))\n",
    "\n",
    "cv2.polylines(canvas,[pts],True,(250,0,0),5)\n",
    "\n",
    "pts=np.array([[100,200],[150,300],[250,300],[300,200],[250,100],[150,100]])\n",
    "pts = pts.reshape((-1,1,2))\n",
    "cv2.polylines(canvas,[pts],True,(250,0,250),5)\n",
    "\n",
    "cv2.imshow('camvas',canvas)\n",
    "cv2.waitKey(0)\n",
    "cv2.destroyAllWindows()"
   ]
  },
  {
   "cell_type": "markdown",
   "id": "34974343-6274-43f6-a0e2-a4b64c2c22d1",
   "metadata": {},
   "source": [
    "Circles"
   ]
  },
  {
   "cell_type": "code",
   "execution_count": 18,
   "id": "86b95d97-c8b7-42fd-a9a1-1e04d989204c",
   "metadata": {},
   "outputs": [],
   "source": [
    "canvas = 255*np.ones((600,900,3),dtype='uint8')\n",
    "cv2.imshow('canvas',canvas)\n",
    "cv2.waitKey(0)\n",
    "cv2.destroyAllWindows()"
   ]
  },
  {
   "cell_type": "code",
   "execution_count": 19,
   "id": "92f8dc88-13aa-445a-95e4-649a61f90462",
   "metadata": {},
   "outputs": [],
   "source": [
    "# center = (100,100)\n",
    "# radius = 100\n",
    "# color = (255,0,0)\n",
    "# cv2.circle(canvas,center,radius,color,5)\n",
    "# cv2.imshow('Canvas',canvas)\n",
    "# cv2.waitKey(0)\n",
    "# cv2.destroyAllWindows()"
   ]
  },
  {
   "cell_type": "markdown",
   "id": "50c38ae4-7a4c-4c5c-9a5c-c84412908bef",
   "metadata": {},
   "source": [
    "Olympics Logo"
   ]
  },
  {
   "cell_type": "code",
   "execution_count": 20,
   "id": "1162e34d-13e1-4831-bad6-b0c0846910bd",
   "metadata": {},
   "outputs": [],
   "source": [
    "cv2.circle(canvas,(100,200),100,(255,0,0),5)\n",
    "cv2.circle(canvas,(400,200),100,(0,255,0),5)\n",
    "cv2.circle(canvas,(700,200),100,(0,0,255),5)\n",
    "cv2.circle(canvas,(250,300),100,(255,0,255),5)\n",
    "cv2.circle(canvas,(550,300),100,(255,255,0),5)\n",
    "\n",
    "cv2.imshow('Canvas',canvas)\n",
    "cv2.waitKey(0)\n",
    "cv2.destroyAllWindows()"
   ]
  },
  {
   "cell_type": "markdown",
   "id": "3f9b5ae4-c54f-406a-858a-ab5d1bb69189",
   "metadata": {},
   "source": [
    "ADD_TEXT"
   ]
  },
  {
   "cell_type": "code",
   "execution_count": 23,
   "id": "c36f7350-66bb-4be8-b8db-06c6f51efcb5",
   "metadata": {},
   "outputs": [],
   "source": [
    "cv2.putText(canvas,'Olypics',(200,500),cv2.FONT_HERSHEY_PLAIN,5,(0,0,0),5)\n",
    "cv2.imshow('Canvas',canvas)\n",
    "cv2.waitKey(0)\n",
    "cv2.destroyAllWindows()"
   ]
  },
  {
   "cell_type": "code",
   "execution_count": null,
   "id": "1579c396-fb52-4f63-be54-2fc397d2ef49",
   "metadata": {},
   "outputs": [],
   "source": []
  }
 ],
 "metadata": {
  "kernelspec": {
   "display_name": "Python 3 (ipykernel)",
   "language": "python",
   "name": "python3"
  },
  "language_info": {
   "codemirror_mode": {
    "name": "ipython",
    "version": 3
   },
   "file_extension": ".py",
   "mimetype": "text/x-python",
   "name": "python",
   "nbconvert_exporter": "python",
   "pygments_lexer": "ipython3",
   "version": "3.11.3"
  }
 },
 "nbformat": 4,
 "nbformat_minor": 5
}
